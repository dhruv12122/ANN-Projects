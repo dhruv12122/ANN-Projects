{
 "cells": [
  {
   "cell_type": "code",
   "execution_count": 1,
   "id": "697f282a",
   "metadata": {
    "execution": {
     "iopub.execute_input": "2025-01-25T18:00:37.728991Z",
     "iopub.status.busy": "2025-01-25T18:00:37.728479Z",
     "iopub.status.idle": "2025-01-25T18:00:56.323119Z",
     "shell.execute_reply": "2025-01-25T18:00:56.322029Z"
    },
    "papermill": {
     "duration": 18.602589,
     "end_time": "2025-01-25T18:00:56.325189",
     "exception": false,
     "start_time": "2025-01-25T18:00:37.722600",
     "status": "completed"
    },
    "tags": []
   },
   "outputs": [],
   "source": [
    "import pandas as pd\n",
    "import numpy as np\n",
    "import matplotlib.pyplot as plt\n",
    "from sklearn.preprocessing import StandardScaler, OneHotEncoder\n",
    "from sklearn.model_selection import train_test_split\n",
    "from tensorflow.keras.models import Sequential \n",
    "from tensorflow.keras.layers import Dense, Dropout\n",
    "from tensorflow.keras.optimizers import Adam"
   ]
  },
  {
   "cell_type": "code",
   "execution_count": 2,
   "id": "129bf2a7",
   "metadata": {
    "execution": {
     "iopub.execute_input": "2025-01-25T18:00:56.335290Z",
     "iopub.status.busy": "2025-01-25T18:00:56.334648Z",
     "iopub.status.idle": "2025-01-25T18:00:56.380145Z",
     "shell.execute_reply": "2025-01-25T18:00:56.378870Z"
    },
    "papermill": {
     "duration": 0.052271,
     "end_time": "2025-01-25T18:00:56.382036",
     "exception": false,
     "start_time": "2025-01-25T18:00:56.329765",
     "status": "completed"
    },
    "tags": []
   },
   "outputs": [
    {
     "data": {
      "text/html": [
       "<div>\n",
       "<style scoped>\n",
       "    .dataframe tbody tr th:only-of-type {\n",
       "        vertical-align: middle;\n",
       "    }\n",
       "\n",
       "    .dataframe tbody tr th {\n",
       "        vertical-align: top;\n",
       "    }\n",
       "\n",
       "    .dataframe thead th {\n",
       "        text-align: right;\n",
       "    }\n",
       "</style>\n",
       "<table border=\"1\" class=\"dataframe\">\n",
       "  <thead>\n",
       "    <tr style=\"text-align: right;\">\n",
       "      <th></th>\n",
       "      <th>date</th>\n",
       "      <th>precipitation</th>\n",
       "      <th>temp_max</th>\n",
       "      <th>temp_min</th>\n",
       "      <th>wind</th>\n",
       "      <th>weather</th>\n",
       "    </tr>\n",
       "  </thead>\n",
       "  <tbody>\n",
       "    <tr>\n",
       "      <th>0</th>\n",
       "      <td>2012-01-01</td>\n",
       "      <td>0.0</td>\n",
       "      <td>12.8</td>\n",
       "      <td>5.0</td>\n",
       "      <td>4.7</td>\n",
       "      <td>drizzle</td>\n",
       "    </tr>\n",
       "    <tr>\n",
       "      <th>1</th>\n",
       "      <td>2012-01-02</td>\n",
       "      <td>10.9</td>\n",
       "      <td>10.6</td>\n",
       "      <td>2.8</td>\n",
       "      <td>4.5</td>\n",
       "      <td>rain</td>\n",
       "    </tr>\n",
       "    <tr>\n",
       "      <th>2</th>\n",
       "      <td>2012-01-03</td>\n",
       "      <td>0.8</td>\n",
       "      <td>11.7</td>\n",
       "      <td>7.2</td>\n",
       "      <td>2.3</td>\n",
       "      <td>rain</td>\n",
       "    </tr>\n",
       "    <tr>\n",
       "      <th>3</th>\n",
       "      <td>2012-01-04</td>\n",
       "      <td>20.3</td>\n",
       "      <td>12.2</td>\n",
       "      <td>5.6</td>\n",
       "      <td>4.7</td>\n",
       "      <td>rain</td>\n",
       "    </tr>\n",
       "    <tr>\n",
       "      <th>4</th>\n",
       "      <td>2012-01-05</td>\n",
       "      <td>1.3</td>\n",
       "      <td>8.9</td>\n",
       "      <td>2.8</td>\n",
       "      <td>6.1</td>\n",
       "      <td>rain</td>\n",
       "    </tr>\n",
       "  </tbody>\n",
       "</table>\n",
       "</div>"
      ],
      "text/plain": [
       "         date  precipitation  temp_max  temp_min  wind  weather\n",
       "0  2012-01-01            0.0      12.8       5.0   4.7  drizzle\n",
       "1  2012-01-02           10.9      10.6       2.8   4.5     rain\n",
       "2  2012-01-03            0.8      11.7       7.2   2.3     rain\n",
       "3  2012-01-04           20.3      12.2       5.6   4.7     rain\n",
       "4  2012-01-05            1.3       8.9       2.8   6.1     rain"
      ]
     },
     "execution_count": 2,
     "metadata": {},
     "output_type": "execute_result"
    }
   ],
   "source": [
    "data = pd.read_csv(\"/kaggle/input/weather-prediction/seattle-weather.csv\")\n",
    "data.head()"
   ]
  },
  {
   "cell_type": "code",
   "execution_count": 3,
   "id": "1fc055b5",
   "metadata": {
    "execution": {
     "iopub.execute_input": "2025-01-25T18:00:56.391527Z",
     "iopub.status.busy": "2025-01-25T18:00:56.391074Z",
     "iopub.status.idle": "2025-01-25T18:00:56.403782Z",
     "shell.execute_reply": "2025-01-25T18:00:56.402606Z"
    },
    "papermill": {
     "duration": 0.019544,
     "end_time": "2025-01-25T18:00:56.405721",
     "exception": false,
     "start_time": "2025-01-25T18:00:56.386177",
     "status": "completed"
    },
    "tags": []
   },
   "outputs": [],
   "source": [
    "data = data.drop(['date'], axis=1)"
   ]
  },
  {
   "cell_type": "code",
   "execution_count": 4,
   "id": "7871a006",
   "metadata": {
    "execution": {
     "iopub.execute_input": "2025-01-25T18:00:56.414888Z",
     "iopub.status.busy": "2025-01-25T18:00:56.414501Z",
     "iopub.status.idle": "2025-01-25T18:00:56.424029Z",
     "shell.execute_reply": "2025-01-25T18:00:56.422494Z"
    },
    "papermill": {
     "duration": 0.016297,
     "end_time": "2025-01-25T18:00:56.426016",
     "exception": false,
     "start_time": "2025-01-25T18:00:56.409719",
     "status": "completed"
    },
    "tags": []
   },
   "outputs": [
    {
     "name": "stdout",
     "output_type": "stream",
     "text": [
      "precipitation    0\n",
      "temp_max         0\n",
      "temp_min         0\n",
      "wind             0\n",
      "weather          0\n",
      "dtype: int64\n"
     ]
    }
   ],
   "source": [
    "print(data.isnull().sum())"
   ]
  },
  {
   "cell_type": "code",
   "execution_count": 5,
   "id": "297e0cea",
   "metadata": {
    "execution": {
     "iopub.execute_input": "2025-01-25T18:00:56.435690Z",
     "iopub.status.busy": "2025-01-25T18:00:56.435296Z",
     "iopub.status.idle": "2025-01-25T18:00:56.444887Z",
     "shell.execute_reply": "2025-01-25T18:00:56.443721Z"
    },
    "papermill": {
     "duration": 0.016367,
     "end_time": "2025-01-25T18:00:56.446583",
     "exception": false,
     "start_time": "2025-01-25T18:00:56.430216",
     "status": "completed"
    },
    "tags": []
   },
   "outputs": [
    {
     "name": "stdout",
     "output_type": "stream",
     "text": [
      "['drizzle' 'rain' 'sun' 'snow' 'fog']\n"
     ]
    }
   ],
   "source": [
    "print(data[\"weather\"].unique())"
   ]
  },
  {
   "cell_type": "code",
   "execution_count": 6,
   "id": "e44cc683",
   "metadata": {
    "execution": {
     "iopub.execute_input": "2025-01-25T18:00:56.456199Z",
     "iopub.status.busy": "2025-01-25T18:00:56.455856Z",
     "iopub.status.idle": "2025-01-25T18:00:56.470332Z",
     "shell.execute_reply": "2025-01-25T18:00:56.469128Z"
    },
    "papermill": {
     "duration": 0.021325,
     "end_time": "2025-01-25T18:00:56.472104",
     "exception": false,
     "start_time": "2025-01-25T18:00:56.450779",
     "status": "completed"
    },
    "tags": []
   },
   "outputs": [
    {
     "data": {
      "text/plain": [
       "array([[1., 0., 0., 0., 0.],\n",
       "       [0., 0., 1., 0., 0.],\n",
       "       [0., 0., 1., 0., 0.],\n",
       "       ...,\n",
       "       [0., 1., 0., 0., 0.],\n",
       "       [0., 0., 0., 0., 1.],\n",
       "       [0., 0., 0., 0., 1.]])"
      ]
     },
     "execution_count": 6,
     "metadata": {},
     "output_type": "execute_result"
    }
   ],
   "source": [
    "oh = OneHotEncoder()\n",
    "encoded = oh.fit_transform(data[['weather']]).toarray()\n",
    "encoded"
   ]
  },
  {
   "cell_type": "code",
   "execution_count": 7,
   "id": "493b9233",
   "metadata": {
    "execution": {
     "iopub.execute_input": "2025-01-25T18:00:56.481686Z",
     "iopub.status.busy": "2025-01-25T18:00:56.481302Z",
     "iopub.status.idle": "2025-01-25T18:00:56.487927Z",
     "shell.execute_reply": "2025-01-25T18:00:56.486836Z"
    },
    "papermill": {
     "duration": 0.013155,
     "end_time": "2025-01-25T18:00:56.489479",
     "exception": false,
     "start_time": "2025-01-25T18:00:56.476324",
     "status": "completed"
    },
    "tags": []
   },
   "outputs": [
    {
     "data": {
      "text/plain": [
       "array(['weather_drizzle', 'weather_fog', 'weather_rain', 'weather_snow',\n",
       "       'weather_sun'], dtype=object)"
      ]
     },
     "execution_count": 7,
     "metadata": {},
     "output_type": "execute_result"
    }
   ],
   "source": [
    "oh.get_feature_names_out(['weather'])"
   ]
  },
  {
   "cell_type": "code",
   "execution_count": 8,
   "id": "4444b908",
   "metadata": {
    "execution": {
     "iopub.execute_input": "2025-01-25T18:00:56.499379Z",
     "iopub.status.busy": "2025-01-25T18:00:56.499007Z",
     "iopub.status.idle": "2025-01-25T18:00:56.514459Z",
     "shell.execute_reply": "2025-01-25T18:00:56.513535Z"
    },
    "papermill": {
     "duration": 0.022336,
     "end_time": "2025-01-25T18:00:56.516182",
     "exception": false,
     "start_time": "2025-01-25T18:00:56.493846",
     "status": "completed"
    },
    "tags": []
   },
   "outputs": [
    {
     "data": {
      "text/html": [
       "<div>\n",
       "<style scoped>\n",
       "    .dataframe tbody tr th:only-of-type {\n",
       "        vertical-align: middle;\n",
       "    }\n",
       "\n",
       "    .dataframe tbody tr th {\n",
       "        vertical-align: top;\n",
       "    }\n",
       "\n",
       "    .dataframe thead th {\n",
       "        text-align: right;\n",
       "    }\n",
       "</style>\n",
       "<table border=\"1\" class=\"dataframe\">\n",
       "  <thead>\n",
       "    <tr style=\"text-align: right;\">\n",
       "      <th></th>\n",
       "      <th>weather_drizzle</th>\n",
       "      <th>weather_fog</th>\n",
       "      <th>weather_rain</th>\n",
       "      <th>weather_snow</th>\n",
       "      <th>weather_sun</th>\n",
       "    </tr>\n",
       "  </thead>\n",
       "  <tbody>\n",
       "    <tr>\n",
       "      <th>0</th>\n",
       "      <td>1.0</td>\n",
       "      <td>0.0</td>\n",
       "      <td>0.0</td>\n",
       "      <td>0.0</td>\n",
       "      <td>0.0</td>\n",
       "    </tr>\n",
       "    <tr>\n",
       "      <th>1</th>\n",
       "      <td>0.0</td>\n",
       "      <td>0.0</td>\n",
       "      <td>1.0</td>\n",
       "      <td>0.0</td>\n",
       "      <td>0.0</td>\n",
       "    </tr>\n",
       "    <tr>\n",
       "      <th>2</th>\n",
       "      <td>0.0</td>\n",
       "      <td>0.0</td>\n",
       "      <td>1.0</td>\n",
       "      <td>0.0</td>\n",
       "      <td>0.0</td>\n",
       "    </tr>\n",
       "    <tr>\n",
       "      <th>3</th>\n",
       "      <td>0.0</td>\n",
       "      <td>0.0</td>\n",
       "      <td>1.0</td>\n",
       "      <td>0.0</td>\n",
       "      <td>0.0</td>\n",
       "    </tr>\n",
       "    <tr>\n",
       "      <th>4</th>\n",
       "      <td>0.0</td>\n",
       "      <td>0.0</td>\n",
       "      <td>1.0</td>\n",
       "      <td>0.0</td>\n",
       "      <td>0.0</td>\n",
       "    </tr>\n",
       "    <tr>\n",
       "      <th>...</th>\n",
       "      <td>...</td>\n",
       "      <td>...</td>\n",
       "      <td>...</td>\n",
       "      <td>...</td>\n",
       "      <td>...</td>\n",
       "    </tr>\n",
       "    <tr>\n",
       "      <th>1456</th>\n",
       "      <td>0.0</td>\n",
       "      <td>0.0</td>\n",
       "      <td>1.0</td>\n",
       "      <td>0.0</td>\n",
       "      <td>0.0</td>\n",
       "    </tr>\n",
       "    <tr>\n",
       "      <th>1457</th>\n",
       "      <td>0.0</td>\n",
       "      <td>0.0</td>\n",
       "      <td>1.0</td>\n",
       "      <td>0.0</td>\n",
       "      <td>0.0</td>\n",
       "    </tr>\n",
       "    <tr>\n",
       "      <th>1458</th>\n",
       "      <td>0.0</td>\n",
       "      <td>1.0</td>\n",
       "      <td>0.0</td>\n",
       "      <td>0.0</td>\n",
       "      <td>0.0</td>\n",
       "    </tr>\n",
       "    <tr>\n",
       "      <th>1459</th>\n",
       "      <td>0.0</td>\n",
       "      <td>0.0</td>\n",
       "      <td>0.0</td>\n",
       "      <td>0.0</td>\n",
       "      <td>1.0</td>\n",
       "    </tr>\n",
       "    <tr>\n",
       "      <th>1460</th>\n",
       "      <td>0.0</td>\n",
       "      <td>0.0</td>\n",
       "      <td>0.0</td>\n",
       "      <td>0.0</td>\n",
       "      <td>1.0</td>\n",
       "    </tr>\n",
       "  </tbody>\n",
       "</table>\n",
       "<p>1461 rows × 5 columns</p>\n",
       "</div>"
      ],
      "text/plain": [
       "      weather_drizzle  weather_fog  weather_rain  weather_snow  weather_sun\n",
       "0                 1.0          0.0           0.0           0.0          0.0\n",
       "1                 0.0          0.0           1.0           0.0          0.0\n",
       "2                 0.0          0.0           1.0           0.0          0.0\n",
       "3                 0.0          0.0           1.0           0.0          0.0\n",
       "4                 0.0          0.0           1.0           0.0          0.0\n",
       "...               ...          ...           ...           ...          ...\n",
       "1456              0.0          0.0           1.0           0.0          0.0\n",
       "1457              0.0          0.0           1.0           0.0          0.0\n",
       "1458              0.0          1.0           0.0           0.0          0.0\n",
       "1459              0.0          0.0           0.0           0.0          1.0\n",
       "1460              0.0          0.0           0.0           0.0          1.0\n",
       "\n",
       "[1461 rows x 5 columns]"
      ]
     },
     "execution_count": 8,
     "metadata": {},
     "output_type": "execute_result"
    }
   ],
   "source": [
    "encoded_df = pd.DataFrame(encoded, columns = oh.get_feature_names_out(['weather']))\n",
    "encoded_df"
   ]
  },
  {
   "cell_type": "code",
   "execution_count": 9,
   "id": "c9797ab2",
   "metadata": {
    "execution": {
     "iopub.execute_input": "2025-01-25T18:00:56.526547Z",
     "iopub.status.busy": "2025-01-25T18:00:56.526159Z",
     "iopub.status.idle": "2025-01-25T18:00:56.547656Z",
     "shell.execute_reply": "2025-01-25T18:00:56.546357Z"
    },
    "papermill": {
     "duration": 0.028713,
     "end_time": "2025-01-25T18:00:56.549550",
     "exception": false,
     "start_time": "2025-01-25T18:00:56.520837",
     "status": "completed"
    },
    "tags": []
   },
   "outputs": [
    {
     "data": {
      "text/html": [
       "<div>\n",
       "<style scoped>\n",
       "    .dataframe tbody tr th:only-of-type {\n",
       "        vertical-align: middle;\n",
       "    }\n",
       "\n",
       "    .dataframe tbody tr th {\n",
       "        vertical-align: top;\n",
       "    }\n",
       "\n",
       "    .dataframe thead th {\n",
       "        text-align: right;\n",
       "    }\n",
       "</style>\n",
       "<table border=\"1\" class=\"dataframe\">\n",
       "  <thead>\n",
       "    <tr style=\"text-align: right;\">\n",
       "      <th></th>\n",
       "      <th>precipitation</th>\n",
       "      <th>temp_max</th>\n",
       "      <th>temp_min</th>\n",
       "      <th>wind</th>\n",
       "      <th>weather_drizzle</th>\n",
       "      <th>weather_fog</th>\n",
       "      <th>weather_rain</th>\n",
       "      <th>weather_snow</th>\n",
       "      <th>weather_sun</th>\n",
       "    </tr>\n",
       "  </thead>\n",
       "  <tbody>\n",
       "    <tr>\n",
       "      <th>0</th>\n",
       "      <td>0.0</td>\n",
       "      <td>12.8</td>\n",
       "      <td>5.0</td>\n",
       "      <td>4.7</td>\n",
       "      <td>1.0</td>\n",
       "      <td>0.0</td>\n",
       "      <td>0.0</td>\n",
       "      <td>0.0</td>\n",
       "      <td>0.0</td>\n",
       "    </tr>\n",
       "    <tr>\n",
       "      <th>1</th>\n",
       "      <td>10.9</td>\n",
       "      <td>10.6</td>\n",
       "      <td>2.8</td>\n",
       "      <td>4.5</td>\n",
       "      <td>0.0</td>\n",
       "      <td>0.0</td>\n",
       "      <td>1.0</td>\n",
       "      <td>0.0</td>\n",
       "      <td>0.0</td>\n",
       "    </tr>\n",
       "    <tr>\n",
       "      <th>2</th>\n",
       "      <td>0.8</td>\n",
       "      <td>11.7</td>\n",
       "      <td>7.2</td>\n",
       "      <td>2.3</td>\n",
       "      <td>0.0</td>\n",
       "      <td>0.0</td>\n",
       "      <td>1.0</td>\n",
       "      <td>0.0</td>\n",
       "      <td>0.0</td>\n",
       "    </tr>\n",
       "    <tr>\n",
       "      <th>3</th>\n",
       "      <td>20.3</td>\n",
       "      <td>12.2</td>\n",
       "      <td>5.6</td>\n",
       "      <td>4.7</td>\n",
       "      <td>0.0</td>\n",
       "      <td>0.0</td>\n",
       "      <td>1.0</td>\n",
       "      <td>0.0</td>\n",
       "      <td>0.0</td>\n",
       "    </tr>\n",
       "    <tr>\n",
       "      <th>4</th>\n",
       "      <td>1.3</td>\n",
       "      <td>8.9</td>\n",
       "      <td>2.8</td>\n",
       "      <td>6.1</td>\n",
       "      <td>0.0</td>\n",
       "      <td>0.0</td>\n",
       "      <td>1.0</td>\n",
       "      <td>0.0</td>\n",
       "      <td>0.0</td>\n",
       "    </tr>\n",
       "    <tr>\n",
       "      <th>...</th>\n",
       "      <td>...</td>\n",
       "      <td>...</td>\n",
       "      <td>...</td>\n",
       "      <td>...</td>\n",
       "      <td>...</td>\n",
       "      <td>...</td>\n",
       "      <td>...</td>\n",
       "      <td>...</td>\n",
       "      <td>...</td>\n",
       "    </tr>\n",
       "    <tr>\n",
       "      <th>1456</th>\n",
       "      <td>8.6</td>\n",
       "      <td>4.4</td>\n",
       "      <td>1.7</td>\n",
       "      <td>2.9</td>\n",
       "      <td>0.0</td>\n",
       "      <td>0.0</td>\n",
       "      <td>1.0</td>\n",
       "      <td>0.0</td>\n",
       "      <td>0.0</td>\n",
       "    </tr>\n",
       "    <tr>\n",
       "      <th>1457</th>\n",
       "      <td>1.5</td>\n",
       "      <td>5.0</td>\n",
       "      <td>1.7</td>\n",
       "      <td>1.3</td>\n",
       "      <td>0.0</td>\n",
       "      <td>0.0</td>\n",
       "      <td>1.0</td>\n",
       "      <td>0.0</td>\n",
       "      <td>0.0</td>\n",
       "    </tr>\n",
       "    <tr>\n",
       "      <th>1458</th>\n",
       "      <td>0.0</td>\n",
       "      <td>7.2</td>\n",
       "      <td>0.6</td>\n",
       "      <td>2.6</td>\n",
       "      <td>0.0</td>\n",
       "      <td>1.0</td>\n",
       "      <td>0.0</td>\n",
       "      <td>0.0</td>\n",
       "      <td>0.0</td>\n",
       "    </tr>\n",
       "    <tr>\n",
       "      <th>1459</th>\n",
       "      <td>0.0</td>\n",
       "      <td>5.6</td>\n",
       "      <td>-1.0</td>\n",
       "      <td>3.4</td>\n",
       "      <td>0.0</td>\n",
       "      <td>0.0</td>\n",
       "      <td>0.0</td>\n",
       "      <td>0.0</td>\n",
       "      <td>1.0</td>\n",
       "    </tr>\n",
       "    <tr>\n",
       "      <th>1460</th>\n",
       "      <td>0.0</td>\n",
       "      <td>5.6</td>\n",
       "      <td>-2.1</td>\n",
       "      <td>3.5</td>\n",
       "      <td>0.0</td>\n",
       "      <td>0.0</td>\n",
       "      <td>0.0</td>\n",
       "      <td>0.0</td>\n",
       "      <td>1.0</td>\n",
       "    </tr>\n",
       "  </tbody>\n",
       "</table>\n",
       "<p>1461 rows × 9 columns</p>\n",
       "</div>"
      ],
      "text/plain": [
       "      precipitation  temp_max  temp_min  wind  weather_drizzle  weather_fog  \\\n",
       "0               0.0      12.8       5.0   4.7              1.0          0.0   \n",
       "1              10.9      10.6       2.8   4.5              0.0          0.0   \n",
       "2               0.8      11.7       7.2   2.3              0.0          0.0   \n",
       "3              20.3      12.2       5.6   4.7              0.0          0.0   \n",
       "4               1.3       8.9       2.8   6.1              0.0          0.0   \n",
       "...             ...       ...       ...   ...              ...          ...   \n",
       "1456            8.6       4.4       1.7   2.9              0.0          0.0   \n",
       "1457            1.5       5.0       1.7   1.3              0.0          0.0   \n",
       "1458            0.0       7.2       0.6   2.6              0.0          1.0   \n",
       "1459            0.0       5.6      -1.0   3.4              0.0          0.0   \n",
       "1460            0.0       5.6      -2.1   3.5              0.0          0.0   \n",
       "\n",
       "      weather_rain  weather_snow  weather_sun  \n",
       "0              0.0           0.0          0.0  \n",
       "1              1.0           0.0          0.0  \n",
       "2              1.0           0.0          0.0  \n",
       "3              1.0           0.0          0.0  \n",
       "4              1.0           0.0          0.0  \n",
       "...            ...           ...          ...  \n",
       "1456           1.0           0.0          0.0  \n",
       "1457           1.0           0.0          0.0  \n",
       "1458           0.0           0.0          0.0  \n",
       "1459           0.0           0.0          1.0  \n",
       "1460           0.0           0.0          1.0  \n",
       "\n",
       "[1461 rows x 9 columns]"
      ]
     },
     "execution_count": 9,
     "metadata": {},
     "output_type": "execute_result"
    }
   ],
   "source": [
    "data = pd.concat([data.drop('weather', axis=1), encoded_df], axis=1)\n",
    "data"
   ]
  },
  {
   "cell_type": "code",
   "execution_count": 10,
   "id": "a63916d5",
   "metadata": {
    "execution": {
     "iopub.execute_input": "2025-01-25T18:00:56.560296Z",
     "iopub.status.busy": "2025-01-25T18:00:56.559923Z",
     "iopub.status.idle": "2025-01-25T18:00:56.565934Z",
     "shell.execute_reply": "2025-01-25T18:00:56.564825Z"
    },
    "papermill": {
     "duration": 0.013403,
     "end_time": "2025-01-25T18:00:56.567648",
     "exception": false,
     "start_time": "2025-01-25T18:00:56.554245",
     "status": "completed"
    },
    "tags": []
   },
   "outputs": [],
   "source": [
    "X = data[['temp_max', 'temp_min', 'wind']]\n",
    "y = data[['weather_drizzle', 'weather_fog', 'weather_rain', 'weather_snow', 'weather_sun']]"
   ]
  },
  {
   "cell_type": "code",
   "execution_count": 11,
   "id": "7f040f93",
   "metadata": {
    "execution": {
     "iopub.execute_input": "2025-01-25T18:00:56.578553Z",
     "iopub.status.busy": "2025-01-25T18:00:56.578165Z",
     "iopub.status.idle": "2025-01-25T18:00:56.584951Z",
     "shell.execute_reply": "2025-01-25T18:00:56.584059Z"
    },
    "papermill": {
     "duration": 0.014031,
     "end_time": "2025-01-25T18:00:56.586553",
     "exception": false,
     "start_time": "2025-01-25T18:00:56.572522",
     "status": "completed"
    },
    "tags": []
   },
   "outputs": [],
   "source": [
    "X_train, X_test, y_train, y_test = train_test_split(X, y, test_size=0.2, random_state=1)"
   ]
  },
  {
   "cell_type": "code",
   "execution_count": 12,
   "id": "0505a4b3",
   "metadata": {
    "execution": {
     "iopub.execute_input": "2025-01-25T18:00:56.597295Z",
     "iopub.status.busy": "2025-01-25T18:00:56.596939Z",
     "iopub.status.idle": "2025-01-25T18:00:56.607867Z",
     "shell.execute_reply": "2025-01-25T18:00:56.607010Z"
    },
    "papermill": {
     "duration": 0.01848,
     "end_time": "2025-01-25T18:00:56.609837",
     "exception": false,
     "start_time": "2025-01-25T18:00:56.591357",
     "status": "completed"
    },
    "tags": []
   },
   "outputs": [],
   "source": [
    "sc = StandardScaler()\n",
    "X_train = sc.fit_transform(X_train)\n",
    "X_test = sc.fit_transform(X_test)"
   ]
  },
  {
   "cell_type": "code",
   "execution_count": 13,
   "id": "d74b339f",
   "metadata": {
    "execution": {
     "iopub.execute_input": "2025-01-25T18:00:56.621315Z",
     "iopub.status.busy": "2025-01-25T18:00:56.620986Z",
     "iopub.status.idle": "2025-01-25T18:00:56.730639Z",
     "shell.execute_reply": "2025-01-25T18:00:56.729486Z"
    },
    "papermill": {
     "duration": 0.117373,
     "end_time": "2025-01-25T18:00:56.732688",
     "exception": false,
     "start_time": "2025-01-25T18:00:56.615315",
     "status": "completed"
    },
    "tags": []
   },
   "outputs": [
    {
     "name": "stderr",
     "output_type": "stream",
     "text": [
      "/usr/local/lib/python3.10/dist-packages/keras/src/layers/core/dense.py:87: UserWarning: Do not pass an `input_shape`/`input_dim` argument to a layer. When using Sequential models, prefer using an `Input(shape)` object as the first layer in the model instead.\n",
      "  super().__init__(activity_regularizer=activity_regularizer, **kwargs)\n"
     ]
    }
   ],
   "source": [
    "model = Sequential([\n",
    "    Dense(32, input_dim=X_train.shape[1], activation='relu'),\n",
    "    Dropout(0.2),\n",
    "    Dense(16, activation='relu'),\n",
    "    Dropout(0.2),\n",
    "    Dense(y_train.shape[1], activation='softmax')\n",
    "    \n",
    "])\n",
    "model.compile(optimizer='adam', loss='mse', metrics=['mae'])"
   ]
  },
  {
   "cell_type": "code",
   "execution_count": 14,
   "id": "cc7e35a8",
   "metadata": {
    "execution": {
     "iopub.execute_input": "2025-01-25T18:00:56.743505Z",
     "iopub.status.busy": "2025-01-25T18:00:56.743125Z",
     "iopub.status.idle": "2025-01-25T18:01:03.977610Z",
     "shell.execute_reply": "2025-01-25T18:01:03.976457Z"
    },
    "papermill": {
     "duration": 7.242235,
     "end_time": "2025-01-25T18:01:03.979769",
     "exception": false,
     "start_time": "2025-01-25T18:00:56.737534",
     "status": "completed"
    },
    "tags": []
   },
   "outputs": [
    {
     "name": "stdout",
     "output_type": "stream",
     "text": [
      "Epoch 1/40\n",
      "\u001b[1m37/37\u001b[0m \u001b[32m━━━━━━━━━━━━━━━━━━━━\u001b[0m\u001b[37m\u001b[0m \u001b[1m2s\u001b[0m 9ms/step - loss: 0.1664 - mae: 0.3243 - val_loss: 0.1520 - val_mae: 0.3110\n",
      "Epoch 2/40\n",
      "\u001b[1m37/37\u001b[0m \u001b[32m━━━━━━━━━━━━━━━━━━━━\u001b[0m\u001b[37m\u001b[0m \u001b[1m0s\u001b[0m 3ms/step - loss: 0.1483 - mae: 0.3062 - val_loss: 0.1335 - val_mae: 0.2873\n",
      "Epoch 3/40\n",
      "\u001b[1m37/37\u001b[0m \u001b[32m━━━━━━━━━━━━━━━━━━━━\u001b[0m\u001b[37m\u001b[0m \u001b[1m0s\u001b[0m 3ms/step - loss: 0.1271 - mae: 0.2757 - val_loss: 0.1149 - val_mae: 0.2510\n",
      "Epoch 4/40\n",
      "\u001b[1m37/37\u001b[0m \u001b[32m━━━━━━━━━━━━━━━━━━━━\u001b[0m\u001b[37m\u001b[0m \u001b[1m0s\u001b[0m 3ms/step - loss: 0.1136 - mae: 0.2431 - val_loss: 0.1060 - val_mae: 0.2238\n",
      "Epoch 5/40\n",
      "\u001b[1m37/37\u001b[0m \u001b[32m━━━━━━━━━━━━━━━━━━━━\u001b[0m\u001b[37m\u001b[0m \u001b[1m0s\u001b[0m 3ms/step - loss: 0.1068 - mae: 0.2219 - val_loss: 0.1011 - val_mae: 0.2096\n",
      "Epoch 6/40\n",
      "\u001b[1m37/37\u001b[0m \u001b[32m━━━━━━━━━━━━━━━━━━━━\u001b[0m\u001b[37m\u001b[0m \u001b[1m0s\u001b[0m 3ms/step - loss: 0.1045 - mae: 0.2101 - val_loss: 0.0974 - val_mae: 0.1985\n",
      "Epoch 7/40\n",
      "\u001b[1m37/37\u001b[0m \u001b[32m━━━━━━━━━━━━━━━━━━━━\u001b[0m\u001b[37m\u001b[0m \u001b[1m0s\u001b[0m 3ms/step - loss: 0.1004 - mae: 0.2020 - val_loss: 0.0950 - val_mae: 0.1908\n",
      "Epoch 8/40\n",
      "\u001b[1m37/37\u001b[0m \u001b[32m━━━━━━━━━━━━━━━━━━━━\u001b[0m\u001b[37m\u001b[0m \u001b[1m0s\u001b[0m 3ms/step - loss: 0.0973 - mae: 0.1948 - val_loss: 0.0940 - val_mae: 0.1856\n",
      "Epoch 9/40\n",
      "\u001b[1m37/37\u001b[0m \u001b[32m━━━━━━━━━━━━━━━━━━━━\u001b[0m\u001b[37m\u001b[0m \u001b[1m0s\u001b[0m 3ms/step - loss: 0.0963 - mae: 0.1890 - val_loss: 0.0931 - val_mae: 0.1808\n",
      "Epoch 10/40\n",
      "\u001b[1m37/37\u001b[0m \u001b[32m━━━━━━━━━━━━━━━━━━━━\u001b[0m\u001b[37m\u001b[0m \u001b[1m0s\u001b[0m 3ms/step - loss: 0.0903 - mae: 0.1793 - val_loss: 0.0928 - val_mae: 0.1782\n",
      "Epoch 11/40\n",
      "\u001b[1m37/37\u001b[0m \u001b[32m━━━━━━━━━━━━━━━━━━━━\u001b[0m\u001b[37m\u001b[0m \u001b[1m0s\u001b[0m 3ms/step - loss: 0.0919 - mae: 0.1812 - val_loss: 0.0927 - val_mae: 0.1770\n",
      "Epoch 12/40\n",
      "\u001b[1m37/37\u001b[0m \u001b[32m━━━━━━━━━━━━━━━━━━━━\u001b[0m\u001b[37m\u001b[0m \u001b[1m0s\u001b[0m 3ms/step - loss: 0.0985 - mae: 0.1871 - val_loss: 0.0924 - val_mae: 0.1764\n",
      "Epoch 13/40\n",
      "\u001b[1m37/37\u001b[0m \u001b[32m━━━━━━━━━━━━━━━━━━━━\u001b[0m\u001b[37m\u001b[0m \u001b[1m0s\u001b[0m 3ms/step - loss: 0.0972 - mae: 0.1843 - val_loss: 0.0920 - val_mae: 0.1749\n",
      "Epoch 14/40\n",
      "\u001b[1m37/37\u001b[0m \u001b[32m━━━━━━━━━━━━━━━━━━━━\u001b[0m\u001b[37m\u001b[0m \u001b[1m0s\u001b[0m 3ms/step - loss: 0.0913 - mae: 0.1778 - val_loss: 0.0921 - val_mae: 0.1758\n",
      "Epoch 15/40\n",
      "\u001b[1m37/37\u001b[0m \u001b[32m━━━━━━━━━━━━━━━━━━━━\u001b[0m\u001b[37m\u001b[0m \u001b[1m0s\u001b[0m 3ms/step - loss: 0.0879 - mae: 0.1727 - val_loss: 0.0919 - val_mae: 0.1740\n",
      "Epoch 16/40\n",
      "\u001b[1m37/37\u001b[0m \u001b[32m━━━━━━━━━━━━━━━━━━━━\u001b[0m\u001b[37m\u001b[0m \u001b[1m0s\u001b[0m 3ms/step - loss: 0.0904 - mae: 0.1773 - val_loss: 0.0919 - val_mae: 0.1727\n",
      "Epoch 17/40\n",
      "\u001b[1m37/37\u001b[0m \u001b[32m━━━━━━━━━━━━━━━━━━━━\u001b[0m\u001b[37m\u001b[0m \u001b[1m0s\u001b[0m 3ms/step - loss: 0.0882 - mae: 0.1735 - val_loss: 0.0919 - val_mae: 0.1707\n",
      "Epoch 18/40\n",
      "\u001b[1m37/37\u001b[0m \u001b[32m━━━━━━━━━━━━━━━━━━━━\u001b[0m\u001b[37m\u001b[0m \u001b[1m0s\u001b[0m 3ms/step - loss: 0.0908 - mae: 0.1750 - val_loss: 0.0917 - val_mae: 0.1705\n",
      "Epoch 19/40\n",
      "\u001b[1m37/37\u001b[0m \u001b[32m━━━━━━━━━━━━━━━━━━━━\u001b[0m\u001b[37m\u001b[0m \u001b[1m0s\u001b[0m 3ms/step - loss: 0.0870 - mae: 0.1705 - val_loss: 0.0916 - val_mae: 0.1701\n",
      "Epoch 20/40\n",
      "\u001b[1m37/37\u001b[0m \u001b[32m━━━━━━━━━━━━━━━━━━━━\u001b[0m\u001b[37m\u001b[0m \u001b[1m0s\u001b[0m 3ms/step - loss: 0.0853 - mae: 0.1689 - val_loss: 0.0917 - val_mae: 0.1711\n",
      "Epoch 21/40\n",
      "\u001b[1m37/37\u001b[0m \u001b[32m━━━━━━━━━━━━━━━━━━━━\u001b[0m\u001b[37m\u001b[0m \u001b[1m0s\u001b[0m 3ms/step - loss: 0.0884 - mae: 0.1736 - val_loss: 0.0914 - val_mae: 0.1709\n",
      "Epoch 22/40\n",
      "\u001b[1m37/37\u001b[0m \u001b[32m━━━━━━━━━━━━━━━━━━━━\u001b[0m\u001b[37m\u001b[0m \u001b[1m0s\u001b[0m 3ms/step - loss: 0.0883 - mae: 0.1721 - val_loss: 0.0916 - val_mae: 0.1711\n",
      "Epoch 23/40\n",
      "\u001b[1m37/37\u001b[0m \u001b[32m━━━━━━━━━━━━━━━━━━━━\u001b[0m\u001b[37m\u001b[0m \u001b[1m0s\u001b[0m 3ms/step - loss: 0.0938 - mae: 0.1797 - val_loss: 0.0915 - val_mae: 0.1722\n",
      "Epoch 24/40\n",
      "\u001b[1m37/37\u001b[0m \u001b[32m━━━━━━━━━━━━━━━━━━━━\u001b[0m\u001b[37m\u001b[0m \u001b[1m0s\u001b[0m 3ms/step - loss: 0.0957 - mae: 0.1812 - val_loss: 0.0914 - val_mae: 0.1718\n",
      "Epoch 25/40\n",
      "\u001b[1m37/37\u001b[0m \u001b[32m━━━━━━━━━━━━━━━━━━━━\u001b[0m\u001b[37m\u001b[0m \u001b[1m0s\u001b[0m 3ms/step - loss: 0.0869 - mae: 0.1713 - val_loss: 0.0914 - val_mae: 0.1706\n",
      "Epoch 26/40\n",
      "\u001b[1m37/37\u001b[0m \u001b[32m━━━━━━━━━━━━━━━━━━━━\u001b[0m\u001b[37m\u001b[0m \u001b[1m0s\u001b[0m 3ms/step - loss: 0.0867 - mae: 0.1696 - val_loss: 0.0912 - val_mae: 0.1712\n",
      "Epoch 27/40\n",
      "\u001b[1m37/37\u001b[0m \u001b[32m━━━━━━━━━━━━━━━━━━━━\u001b[0m\u001b[37m\u001b[0m \u001b[1m0s\u001b[0m 3ms/step - loss: 0.0863 - mae: 0.1712 - val_loss: 0.0914 - val_mae: 0.1686\n",
      "Epoch 28/40\n",
      "\u001b[1m37/37\u001b[0m \u001b[32m━━━━━━━━━━━━━━━━━━━━\u001b[0m\u001b[37m\u001b[0m \u001b[1m0s\u001b[0m 3ms/step - loss: 0.0877 - mae: 0.1698 - val_loss: 0.0912 - val_mae: 0.1685\n",
      "Epoch 29/40\n",
      "\u001b[1m37/37\u001b[0m \u001b[32m━━━━━━━━━━━━━━━━━━━━\u001b[0m\u001b[37m\u001b[0m \u001b[1m0s\u001b[0m 3ms/step - loss: 0.0839 - mae: 0.1667 - val_loss: 0.0910 - val_mae: 0.1707\n",
      "Epoch 30/40\n",
      "\u001b[1m37/37\u001b[0m \u001b[32m━━━━━━━━━━━━━━━━━━━━\u001b[0m\u001b[37m\u001b[0m \u001b[1m0s\u001b[0m 3ms/step - loss: 0.0850 - mae: 0.1701 - val_loss: 0.0910 - val_mae: 0.1680\n",
      "Epoch 31/40\n",
      "\u001b[1m37/37\u001b[0m \u001b[32m━━━━━━━━━━━━━━━━━━━━\u001b[0m\u001b[37m\u001b[0m \u001b[1m0s\u001b[0m 3ms/step - loss: 0.0910 - mae: 0.1752 - val_loss: 0.0908 - val_mae: 0.1687\n",
      "Epoch 32/40\n",
      "\u001b[1m37/37\u001b[0m \u001b[32m━━━━━━━━━━━━━━━━━━━━\u001b[0m\u001b[37m\u001b[0m \u001b[1m0s\u001b[0m 3ms/step - loss: 0.0871 - mae: 0.1690 - val_loss: 0.0911 - val_mae: 0.1688\n",
      "Epoch 33/40\n",
      "\u001b[1m37/37\u001b[0m \u001b[32m━━━━━━━━━━━━━━━━━━━━\u001b[0m\u001b[37m\u001b[0m \u001b[1m0s\u001b[0m 4ms/step - loss: 0.0883 - mae: 0.1711 - val_loss: 0.0912 - val_mae: 0.1690\n",
      "Epoch 34/40\n",
      "\u001b[1m37/37\u001b[0m \u001b[32m━━━━━━━━━━━━━━━━━━━━\u001b[0m\u001b[37m\u001b[0m \u001b[1m0s\u001b[0m 3ms/step - loss: 0.0820 - mae: 0.1637 - val_loss: 0.0915 - val_mae: 0.1684\n",
      "Epoch 35/40\n",
      "\u001b[1m37/37\u001b[0m \u001b[32m━━━━━━━━━━━━━━━━━━━━\u001b[0m\u001b[37m\u001b[0m \u001b[1m0s\u001b[0m 3ms/step - loss: 0.0948 - mae: 0.1800 - val_loss: 0.0911 - val_mae: 0.1696\n",
      "Epoch 36/40\n",
      "\u001b[1m37/37\u001b[0m \u001b[32m━━━━━━━━━━━━━━━━━━━━\u001b[0m\u001b[37m\u001b[0m \u001b[1m0s\u001b[0m 3ms/step - loss: 0.0900 - mae: 0.1732 - val_loss: 0.0911 - val_mae: 0.1703\n",
      "Epoch 37/40\n",
      "\u001b[1m37/37\u001b[0m \u001b[32m━━━━━━━━━━━━━━━━━━━━\u001b[0m\u001b[37m\u001b[0m \u001b[1m0s\u001b[0m 3ms/step - loss: 0.0899 - mae: 0.1746 - val_loss: 0.0910 - val_mae: 0.1687\n",
      "Epoch 38/40\n",
      "\u001b[1m37/37\u001b[0m \u001b[32m━━━━━━━━━━━━━━━━━━━━\u001b[0m\u001b[37m\u001b[0m \u001b[1m0s\u001b[0m 3ms/step - loss: 0.0919 - mae: 0.1751 - val_loss: 0.0910 - val_mae: 0.1692\n",
      "Epoch 39/40\n",
      "\u001b[1m37/37\u001b[0m \u001b[32m━━━━━━━━━━━━━━━━━━━━\u001b[0m\u001b[37m\u001b[0m \u001b[1m0s\u001b[0m 3ms/step - loss: 0.0909 - mae: 0.1733 - val_loss: 0.0910 - val_mae: 0.1692\n",
      "Epoch 40/40\n",
      "\u001b[1m37/37\u001b[0m \u001b[32m━━━━━━━━━━━━━━━━━━━━\u001b[0m\u001b[37m\u001b[0m \u001b[1m0s\u001b[0m 3ms/step - loss: 0.0918 - mae: 0.1766 - val_loss: 0.0910 - val_mae: 0.1708\n"
     ]
    }
   ],
   "source": [
    "history = model.fit(X_train,y_train, validation_data=(X_test, y_test), epochs=40, batch_size = 32)"
   ]
  },
  {
   "cell_type": "code",
   "execution_count": 15,
   "id": "63be0540",
   "metadata": {
    "execution": {
     "iopub.execute_input": "2025-01-25T18:01:04.009322Z",
     "iopub.status.busy": "2025-01-25T18:01:04.008967Z",
     "iopub.status.idle": "2025-01-25T18:01:04.364446Z",
     "shell.execute_reply": "2025-01-25T18:01:04.363333Z"
    },
    "papermill": {
     "duration": 0.372046,
     "end_time": "2025-01-25T18:01:04.366322",
     "exception": false,
     "start_time": "2025-01-25T18:01:03.994276",
     "status": "completed"
    },
    "tags": []
   },
   "outputs": [
    {
     "data": {
      "image/png": "[encoded data removed]",
      "text/plain": [
       "<Figure size 640x480 with 1 Axes>"
      ]
     },
     "metadata": {},
     "output_type": "display_data"
    }
   ],
   "source": [
    "plt.plot(history.history['loss'], label='Training Loss')\n",
    "plt.plot(history.history['val_loss'], label='Validation Loss')\n",
    "plt.xlabel('Epochs')\n",
    "plt.ylabel('Loss')\n",
    "plt.title('Training and Validation Loss')\n",
    "plt.legend()\n",
    "plt.show()"
   ]
  }
 ],
 "metadata": {
  "kaggle": {
   "accelerator": "none",
   "dataSources": [
    {
     "datasetId": 1868601,
     "sourceId": 3051857,
     "sourceType": "datasetVersion"
    }
   ],
   "dockerImageVersionId": 30839,
   "isGpuEnabled": false,
   "isInternetEnabled": true,
   "language": "python",
   "sourceType": "notebook"
  },
  "kernelspec": {
   "display_name": "Python 3",
   "language": "python",
   "name": "python3"
  },
  "language_info": {
   "codemirror_mode": {
    "name": "ipython",
    "version": 3
   },
   "file_extension": ".py",
   "mimetype": "text/x-python",
   "name": "python",
   "nbconvert_exporter": "python",
   "pygments_lexer": "ipython3",
   "version": "3.10.12"
  },
  "papermill": {
   "default_parameters": {},
   "duration": 31.324273,
   "end_time": "2025-01-25T18:01:06.106507",
   "environment_variables": {},
   "exception": null,
   "input_path": "__notebook__.ipynb",
   "output_path": "__notebook__.ipynb",
   "parameters": {},
   "start_time": "2025-01-25T18:00:34.782234",
   "version": "2.6.0"
  }
 },
 "nbformat": 4,
 "nbformat_minor": 5
}
